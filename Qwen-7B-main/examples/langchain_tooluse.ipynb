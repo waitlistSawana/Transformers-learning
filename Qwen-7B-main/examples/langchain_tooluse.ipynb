{
 "cells": [
  {
   "cell_type": "markdown",
   "id": "30e24ef3",
   "metadata": {
    "tags": []
   },
   "source": [
    "# 如何让 Qwen-7b 使用 Langchain 中的 工具\n",
    "\n",
    "本文档主要介绍如何让千问调用 [LangChain](https://python.langchain.com/docs/get_started/introduction.html) 框架中实现好的谷歌搜索、WolframAlpha 等工具。将主要基于 [ReAct Prompting](https://github.com/QwenLM/Qwen-7B/blob/main/examples/react_prompt.md) 技术，一种特殊的链式思考（Chain-of-Thought，简称 CoT）提示技巧，来实现这一目的。"
   ]
  },
  {
   "cell_type": "markdown",
   "id": "212979ec",
   "metadata": {
    "tags": []
   },
   "source": [
    "## 安装依赖"
   ]
  },
  {
   "cell_type": "code",
   "execution_count": null,
   "id": "e21c6728",
   "metadata": {},
   "outputs": [],
   "source": [
    "# 安装千问的依赖\n",
    "!cd Qwen-7b\n",
    "!pip install -r requirements.txt\n",
    "\n",
    "# 安装 langchain 相关依赖\n",
    "!pip install langchain google-search-results wolframalpha arxiv;"
   ]
  },
  {
   "cell_type": "markdown",
   "id": "3b5e6ef9",
   "metadata": {
    "tags": []
   },
   "source": [
    "## 第零步 - 导入 LangChain 的工具"
   ]
  },
  {
   "cell_type": "markdown",
   "id": "af7d0058",
   "metadata": {},
   "source": [
    "以下引入几个常用 APIs 作为演示：\n",
    " - [谷歌搜索API](https://serper.dev/?gclid=EAIaIQobChMIj9eqof7OgAMV44VbCh1F3QZoEAAYASABEgIh3fD_BwE#google-search-api)\n",
    " - [WolframAlpha](https://products.wolframalpha.com/api/)\n",
    " - arxiv论文搜索\n",
    "\n",
    "注1：此处推荐模仿此案例，细致地构造给千问看的工具描述。\n",
    "\n",
    "注2：谷歌搜索（SERPAPI）， WolframAlpha 需自行申请它们的 API_KEY 后才能使用。"
   ]
  },
  {
   "cell_type": "code",
   "execution_count": null,
   "id": "07e49b98-9d6c-41f2-9b18-f043f2d13e1a",
   "metadata": {},
   "outputs": [],
   "source": [
    "from langchain import SerpAPIWrapper\n",
    "from langchain.utilities.wolfram_alpha import WolframAlphaAPIWrapper\n",
    "from langchain.utilities import ArxivAPIWrapper\n",
    "\n",
    "from typing import Dict, Tuple\n",
    "import os\n",
    "import json\n",
    "\n",
    "from transformers import AutoModelForCausalLM, AutoTokenizer\n",
    "from transformers.generation import GenerationConfig\n",
    "\n",
    "# 为了使用谷歌搜索（SERPAPI）， WolframAlpha，您需要自行申请它们的 API KEY，然后填入此处\n",
    "os.environ['SERPAPI_API_KEY'] = '重要！请在这里填入您的 SERPAPI_API_KEY！'\n",
    "os.environ['WOLFRAM_ALPHA_APPID'] = '重要！请在这里填入您的 WOLFRAM_ALPHA_APPID！'\n",
    "\n",
    "search = SerpAPIWrapper()\n",
    "WolframAlpha = WolframAlphaAPIWrapper()\n",
    "arxiv = ArxivAPIWrapper()\n",
    "\n",
    "def tool_wrapper_for_qwen(tool):\n",
    "    def tool_(query):\n",
    "        query = json.loads(query)[\"query\"]\n",
    "        return tool.run(query)\n",
    "    return tool_\n",
    "\n",
    "# 以下是给千问看的工具描述：\n",
    "TOOLS = [\n",
    "    {\n",
    "        'name_for_human':\n",
    "            'google search',\n",
    "        'name_for_model':\n",
    "            'Search',\n",
    "        'description_for_model':\n",
    "            'useful for when you need to answer questions about current events.',\n",
    "        'parameters': [{\n",
    "            \"name\": \"query\",\n",
    "            \"type\": \"string\",\n",
    "            \"description\": \"search query of google\",\n",
    "            'required': True\n",
    "        }], \n",
    "        'tool_api': tool_wrapper_for_qwen(search)\n",
    "    },\n",
    "    {\n",
    "        'name_for_human':\n",
    "            'Wolfram Alpha',\n",
    "        'name_for_model':\n",
    "            'Math',\n",
    "        'description_for_model':\n",
    "            'Useful for when you need to answer questions about Math, Science, Technology, Culture, Society and Everyday Life.',\n",
    "        'parameters': [{\n",
    "            \"name\": \"query\",\n",
    "            \"type\": \"string\",\n",
    "            \"description\": \"search query of Wolfram Alpha\",\n",
    "            'required': True\n",
    "        }], \n",
    "        'tool_api': tool_wrapper_for_qwen(WolframAlpha)\n",
    "    },  \n",
    "    {\n",
    "        'name_for_human':\n",
    "            'arxiv',\n",
    "        'name_for_model':\n",
    "            'Arxiv',\n",
    "        'description_for_model':\n",
    "            'A wrapper around Arxiv.org Useful for when you need to answer questions about Physics, Mathematics, Computer Science, Quantitative Biology, Quantitative Finance, Statistics, Electrical Engineering, and Economics from scientific articles on arxiv.org.',\n",
    "        'parameters': [{\n",
    "            \"name\": \"query\",\n",
    "            \"type\": \"string\",\n",
    "            \"description\": \"the document id of arxiv to search\",\n",
    "            'required': True\n",
    "        }], \n",
    "        'tool_api': tool_wrapper_for_qwen(arxiv)\n",
    "    }  \n",
    "]\n"
   ]
  },
  {
   "cell_type": "markdown",
   "id": "b7ec2027",
   "metadata": {},
   "source": [
    "## 第一步：让千问判断调用什么工具，生成工具入参"
   ]
  },
  {
   "cell_type": "markdown",
   "id": "7a50d676",
   "metadata": {},
   "source": [
    "根据prompt模版、query、工具的信息构建prompt"
   ]
  },
  {
   "cell_type": "code",
   "execution_count": 4,
   "id": "4a8feb0e-22f7-4184-9ea0-b864812c9b09",
   "metadata": {
    "scrolled": true
   },
   "outputs": [
    {
     "name": "stdout",
     "output_type": "stream",
     "text": [
      "Answer the following questions as best you can. You have access to the following tools:\n",
      "\n",
      "Search: Call this tool to interact with the google search API. What is the google search API useful for? useful for when you need to answer questions about current events. Parameters: [{\"name\": \"query\", \"type\": \"string\", \"description\": \"search query of google\", \"required\": true}] Format the arguments as a JSON object.\n",
      "\n",
      "Use the following format:\n",
      "\n",
      "Question: the input question you must answer\n",
      "Thought: you should always think about what to do\n",
      "Action: the action to take, should be one of [Search]\n",
      "Action Input: the input to the action\n",
      "Observation: the result of the action\n",
      "... (this Thought/Action/Action Input/Observation can be repeated zero or more times)\n",
      "Thought: I now know the final answer\n",
      "Final Answer: the final answer to the original input question\n",
      "\n",
      "Begin!\n",
      "\n",
      "Question: 加拿大2023年人口统计数字是多少？\n"
     ]
    }
   ],
   "source": [
    "TOOL_DESC = \"\"\"{name_for_model}: Call this tool to interact with the {name_for_human} API. What is the {name_for_human} API useful for? {description_for_model} Parameters: {parameters} Format the arguments as a JSON object.\"\"\"\n",
    "\n",
    "REACT_PROMPT = \"\"\"Answer the following questions as best you can. You have access to the following tools:\n",
    "\n",
    "{tool_descs}\n",
    "\n",
    "Use the following format:\n",
    "\n",
    "Question: the input question you must answer\n",
    "Thought: you should always think about what to do\n",
    "Action: the action to take, should be one of [{tool_names}]\n",
    "Action Input: the input to the action\n",
    "Observation: the result of the action\n",
    "... (this Thought/Action/Action Input/Observation can be repeated zero or more times)\n",
    "Thought: I now know the final answer\n",
    "Final Answer: the final answer to the original input question\n",
    "\n",
    "Begin!\n",
    "\n",
    "Question: {query}\"\"\"\n",
    "\n",
    "def build_planning_prompt(TOOLS, query):\n",
    "    tool_descs = []\n",
    "    tool_names = []\n",
    "    for info in TOOLS:\n",
    "        tool_descs.append(\n",
    "            TOOL_DESC.format(\n",
    "                name_for_model=info['name_for_model'],\n",
    "                name_for_human=info['name_for_human'],\n",
    "                description_for_model=info['description_for_model'],\n",
    "                parameters=json.dumps(\n",
    "                    info['parameters'], ensure_ascii=False),\n",
    "            )\n",
    "        )\n",
    "        tool_names.append(info['name_for_model'])\n",
    "    tool_descs = '\\n\\n'.join(tool_descs)\n",
    "    tool_names = ','.join(tool_names)\n",
    "\n",
    "    prompt = REACT_PROMPT.format(tool_descs=tool_descs, tool_names=tool_names, query=query)\n",
    "    return prompt\n",
    "\n",
    "prompt_1 = build_planning_prompt(TOOLS[0:1], query=\"加拿大2023年人口统计数字是多少？\")\n",
    "print(prompt_1)"
   ]
  },
  {
   "cell_type": "markdown",
   "id": "6f22b002",
   "metadata": {},
   "source": [
    "将prompt作为输入获得response"
   ]
  },
  {
   "cell_type": "code",
   "execution_count": null,
   "id": "f71b2577-118c-4ce2-a0ed-a45ec59ea35b",
   "metadata": {},
   "outputs": [],
   "source": [
    "# 国内连 hugginface 网络不好，这段代码可能需要多重试\n",
    "checkpoint = \"Qwen/Qwen-7B-Chat\"\n",
    "TOKENIZER = AutoTokenizer.from_pretrained(checkpoint, trust_remote_code=True)\n",
    "MODEL = AutoModelForCausalLM.from_pretrained(checkpoint, device_map=\"auto\", trust_remote_code=True).eval()\n",
    "MODEL.generation_config = GenerationConfig.from_pretrained(checkpoint, trust_remote_code=True)\n",
    "MODEL.generation_config.do_sample = False  # greedy"
   ]
  },
  {
   "cell_type": "code",
   "execution_count": 7,
   "id": "dc0dbd6c-5a0f-44c9-a019-0ec0283ca92d",
   "metadata": {},
   "outputs": [
    {
     "name": "stdout",
     "output_type": "stream",
     "text": [
      "Thought: 我应该使用搜索工具帮助我完成任务。search api能完成搜索的任务。\n",
      "Action: Search\n",
      "Action Input: {\"query\": \"加拿大 2023年人口统计数字\"}\n",
      "Observation:\n"
     ]
    }
   ],
   "source": [
    "stop = [\"Observation:\", \"Observation:\\n\"]\n",
    "react_stop_words_tokens = [TOKENIZER.encode(stop_) for stop_ in stop]\n",
    "response_1, _ = MODEL.chat(TOKENIZER, prompt_1, history=None, stop_words_ids=react_stop_words_tokens)\n",
    "print(response_1)"
   ]
  },
  {
   "cell_type": "markdown",
   "id": "1ebf47ac",
   "metadata": {},
   "source": [
    "## 第二步：从千问的输出中解析需要使用的工具和入参，并调用对应工具"
   ]
  },
  {
   "cell_type": "code",
   "execution_count": 8,
   "id": "1a431670-a1f6-4afd-972f-1cfd6d06e8c9",
   "metadata": {},
   "outputs": [
    {
     "name": "stdout",
     "output_type": "stream",
     "text": [
      "根据加拿大统计局预测，加拿大人口今天（2023年6月16日）预计将超过4000万。 联邦统计局使用模型来实时估计加拿大的人口，该计数模型预计加拿大人口将在北美东部时间今天下午3点前达到4000万。 加拿大的人口增长率目前为2.7％。\n"
     ]
    }
   ],
   "source": [
    "def parse_latest_plugin_call(text: str) -> Tuple[str, str]:\n",
    "    i = text.rfind('\\nAction:')\n",
    "    j = text.rfind('\\nAction Input:')\n",
    "    k = text.rfind('\\nObservation:')\n",
    "    if 0 <= i < j:  # If the text has `Action` and `Action input`,\n",
    "        if k < j:  # but does not contain `Observation`,\n",
    "            # then it is likely that `Observation` is ommited by the LLM,\n",
    "            # because the output text may have discarded the stop word.\n",
    "            text = text.rstrip() + '\\nObservation:'  # Add it back.\n",
    "            k = text.rfind('\\nObservation:')\n",
    "    if 0 <= i < j < k:\n",
    "        plugin_name = text[i + len('\\nAction:'):j].strip()\n",
    "        plugin_args = text[j + len('\\nAction Input:'):k].strip()\n",
    "        return plugin_name, plugin_args\n",
    "    return '', ''\n",
    "\n",
    "def use_api(tools, response):\n",
    "    use_toolname, action_input = parse_latest_plugin_call(response)\n",
    "    if use_toolname == \"\":\n",
    "        return \"no tool founds\"\n",
    "\n",
    "    used_tool_meta = list(filter(lambda x: x[\"name_for_model\"] == use_toolname, tools))\n",
    "    if len(used_tool_meta) == 0:\n",
    "        return \"no tool founds\"\n",
    "    \n",
    "    api_output = used_tool_meta[0][\"tool_api\"](action_input)\n",
    "    return api_output\n",
    "\n",
    "api_output = use_api(TOOLS, response_1)\n",
    "print(api_output)"
   ]
  },
  {
   "cell_type": "markdown",
   "id": "106a4ba0",
   "metadata": {
    "tags": []
   },
   "source": [
    "## 第三步：让千问根据工具返回结果继续作答\n",
    "拼接上述返回答案，形成新的prompt,并获得生成最终结果"
   ]
  },
  {
   "cell_type": "code",
   "execution_count": 9,
   "id": "a9d4d42d",
   "metadata": {},
   "outputs": [
    {
     "name": "stdout",
     "output_type": "stream",
     "text": [
      "Answer the following questions as best you can. You have access to the following tools:\n",
      "\n",
      "Search: Call this tool to interact with the google search API. What is the google search API useful for? useful for when you need to answer questions about current events. Parameters: [{\"name\": \"query\", \"type\": \"string\", \"description\": \"search query of google\", \"required\": true}] Format the arguments as a JSON object.\n",
      "\n",
      "Use the following format:\n",
      "\n",
      "Question: the input question you must answer\n",
      "Thought: you should always think about what to do\n",
      "Action: the action to take, should be one of [Search]\n",
      "Action Input: the input to the action\n",
      "Observation: the result of the action\n",
      "... (this Thought/Action/Action Input/Observation can be repeated zero or more times)\n",
      "Thought: I now know the final answer\n",
      "Final Answer: the final answer to the original input question\n",
      "\n",
      "Begin!\n",
      "\n",
      "Question: 加拿大2023年人口统计数字是多少？Thought: 我应该使用搜索工具帮助我完成任务。search api能完成搜索的任务。\n",
      "Action: Search\n",
      "Action Input: {\"query\": \"加拿大 2023年人口统计数字\"}\n",
      "Observation: 根据加拿大统计局预测，加拿大人口今天（2023年6月16日）预计将超过4000万。 联邦统计局使用模型来实时估计加拿大的人口，该计数模型预计加拿大人口将在北美东部时间今天下午3点前达到4000万。 加拿大的人口增长率目前为2.7％。 Thought: I now know the final answer.\n",
      "Final Answer: 加拿大2023年人口统计数字预计为4000万。\n"
     ]
    }
   ],
   "source": [
    "prompt_2 = prompt_1 + response_1 + ' ' + api_output\n",
    "stop = [\"Observation:\", \"Observation:\\n\"]\n",
    "react_stop_words_tokens = [TOKENIZER.encode(stop_) for stop_ in stop]\n",
    "response_2, _ = MODEL.chat(TOKENIZER, prompt_2, history=None, stop_words_ids=react_stop_words_tokens)\n",
    "print(prompt_2, response_2)"
   ]
  },
  {
   "cell_type": "markdown",
   "id": "0b8da9fd",
   "metadata": {},
   "source": [
    "## 总结 - 串联起整个流程"
   ]
  },
  {
   "cell_type": "code",
   "execution_count": 10,
   "id": "1e51a8ea",
   "metadata": {},
   "outputs": [
    {
     "name": "stdout",
     "output_type": "stream",
     "text": [
      "==========\n",
      "Answer the following questions as best you can. You have access to the following tools:\n",
      "\n",
      "Search: Call this tool to interact with the google search API. What is the google search API useful for? useful for when you need to answer questions about current events. Parameters: [{\"name\": \"query\", \"type\": \"string\", \"description\": \"search query of google\", \"required\": true}] Format the arguments as a JSON object.\n",
      "\n",
      "Math: Call this tool to interact with the Wolfram Alpha API. What is the Wolfram Alpha API useful for? Useful for when you need to answer questions about Math, Science, Technology, Culture, Society and Everyday Life. Parameters: [{\"name\": \"query\", \"type\": \"string\", \"description\": \"search query of Wolfram Alpha\", \"required\": true}] Format the arguments as a JSON object.\n",
      "\n",
      "Arxiv: Call this tool to interact with the arxiv API. What is the arxiv API useful for? A wrapper around Arxiv.org Useful for when you need to answer questions about Physics, Mathematics, Computer Science, Quantitative Biology, Quantitative Finance, Statistics, Electrical Engineering, and Economics from scientific articles on arxiv.org. Parameters: [{\"name\": \"query\", \"type\": \"string\", \"description\": \"the document id of arxiv to search\", \"required\": true}] Format the arguments as a JSON object.\n",
      "\n",
      "Use the following format:\n",
      "\n",
      "Question: the input question you must answer\n",
      "Thought: you should always think about what to do\n",
      "Action: the action to take, should be one of [Search,Math,Arxiv]\n",
      "Action Input: the input to the action\n",
      "Observation: the result of the action\n",
      "... (this Thought/Action/Action Input/Observation can be repeated zero or more times)\n",
      "Thought: I now know the final answer\n",
      "Final Answer: the final answer to the original input question\n",
      "\n",
      "Begin!\n",
      "\n",
      "Question: 加拿大2022年的人口数量有多少？\n",
      "\u001b[32mThought: 我应该使用搜索工具帮助我完成任务。search api能完成搜索的任务。\n",
      "Action: Search\n",
      "Action Input: {\"query\": \"加拿大 2022年人口数量\"}\n",
      "Observation:\u001b[0m\u001b[34m 中新社多伦多3月22日电(记者余瑞冬)加拿大统计局3月22日公布的人口统计数据显示，截至今年1月1日，该国估算总人口约为3956.62万人，且2022年的人口增长数创纪录地突破100万人。 加统计局估算，该国人口在2022年增长105.011万人，年增长2.7%，创1957年以来最大增幅。\u001b[0m\n",
      "\u001b[32mThought: I now know the final answer.\n",
      "Final Answer: 加拿大2022年的人口数量约为3956.62万人。\u001b[0m\n",
      "==========\n",
      "Answer the following questions as best you can. You have access to the following tools:\n",
      "\n",
      "Search: Call this tool to interact with the google search API. What is the google search API useful for? useful for when you need to answer questions about current events. Parameters: [{\"name\": \"query\", \"type\": \"string\", \"description\": \"search query of google\", \"required\": true}] Format the arguments as a JSON object.\n",
      "\n",
      "Math: Call this tool to interact with the Wolfram Alpha API. What is the Wolfram Alpha API useful for? Useful for when you need to answer questions about Math, Science, Technology, Culture, Society and Everyday Life. Parameters: [{\"name\": \"query\", \"type\": \"string\", \"description\": \"search query of Wolfram Alpha\", \"required\": true}] Format the arguments as a JSON object.\n",
      "\n",
      "Arxiv: Call this tool to interact with the arxiv API. What is the arxiv API useful for? A wrapper around Arxiv.org Useful for when you need to answer questions about Physics, Mathematics, Computer Science, Quantitative Biology, Quantitative Finance, Statistics, Electrical Engineering, and Economics from scientific articles on arxiv.org. Parameters: [{\"name\": \"query\", \"type\": \"string\", \"description\": \"the document id of arxiv to search\", \"required\": true}] Format the arguments as a JSON object.\n",
      "\n",
      "Use the following format:\n",
      "\n",
      "Question: the input question you must answer\n",
      "Thought: you should always think about what to do\n",
      "Action: the action to take, should be one of [Search,Math,Arxiv]\n",
      "Action Input: the input to the action\n",
      "Observation: the result of the action\n",
      "... (this Thought/Action/Action Input/Observation can be repeated zero or more times)\n",
      "Thought: I now know the final answer\n",
      "Final Answer: the final answer to the original input question\n",
      "\n",
      "Begin!\n",
      "\n",
      "Question: 求解方程 2x+5 = -3x + 7\n",
      "\u001b[32mThought: 我应该使用数学工具帮助我完成任务。Wolfram Alpha API能完成求解方程的任务。\n",
      "Action: Math\n",
      "Action Input: {\"query\": \"2x+5 = -3x + 7\"}\n",
      "Observation:\u001b[0m\u001b[34m Assumption: 2 x + 5 = -3 x + 7 \n",
      "Answer: x = 2/5\u001b[0m\n",
      "\u001b[32mThought: I now know the final answer.\n",
      "Final Answer: x = 2/5\u001b[0m\n",
      "==========\n",
      "Answer the following questions as best you can. You have access to the following tools:\n",
      "\n",
      "Search: Call this tool to interact with the google search API. What is the google search API useful for? useful for when you need to answer questions about current events. Parameters: [{\"name\": \"query\", \"type\": \"string\", \"description\": \"search query of google\", \"required\": true}] Format the arguments as a JSON object.\n",
      "\n",
      "Math: Call this tool to interact with the Wolfram Alpha API. What is the Wolfram Alpha API useful for? Useful for when you need to answer questions about Math, Science, Technology, Culture, Society and Everyday Life. Parameters: [{\"name\": \"query\", \"type\": \"string\", \"description\": \"search query of Wolfram Alpha\", \"required\": true}] Format the arguments as a JSON object.\n",
      "\n",
      "Arxiv: Call this tool to interact with the arxiv API. What is the arxiv API useful for? A wrapper around Arxiv.org Useful for when you need to answer questions about Physics, Mathematics, Computer Science, Quantitative Biology, Quantitative Finance, Statistics, Electrical Engineering, and Economics from scientific articles on arxiv.org. Parameters: [{\"name\": \"query\", \"type\": \"string\", \"description\": \"the document id of arxiv to search\", \"required\": true}] Format the arguments as a JSON object.\n",
      "\n",
      "Use the following format:\n",
      "\n",
      "Question: the input question you must answer\n",
      "Thought: you should always think about what to do\n",
      "Action: the action to take, should be one of [Search,Math,Arxiv]\n",
      "Action Input: the input to the action\n",
      "Observation: the result of the action\n",
      "... (this Thought/Action/Action Input/Observation can be repeated zero or more times)\n",
      "Thought: I now know the final answer\n",
      "Final Answer: the final answer to the original input question\n",
      "\n",
      "Begin!\n",
      "\n",
      "Question: 编号是1605.08386的论文讲了些什么？\n",
      "\u001b[32mThought: 我需要调用Arxiv API来获取论文信息。\n",
      "Action: Arxiv\n",
      "Action Input: {\"query\": \"1605.08386\"}\n",
      "Observation:\u001b[0m\u001b[34m Published: 2016-05-26\n",
      "Title: Heat-bath random walks with Markov bases\n",
      "Authors: Caprice Stanley, Tobias Windisch\n",
      "Summary: Graphs on lattice points are studied whose edges come from a finite set of\n",
      "allowed moves of arbitrary length. We show that the diameter of these graphs on\n",
      "fibers of a fixed integer matrix can be bounded from above by a constant. We\n",
      "then study the mixing behaviour of heat-bath random walks on these graphs. We\n",
      "also state explicit conditions on the set of moves so that the heat-bath random\n",
      "walk, a generalization of the Glauber dynamics, is an expander in fixed\n",
      "dimension.\u001b[0m\n",
      "\u001b[32mThought: I now know the final answer.\n",
      "Final Answer: 论文编号为1605.08386的论文主要研究了热浴随机行走的性质。论文中，作者通过考虑有限个允许的任意长度的移动，研究了在有限矩阵的纤维上的图的直径的上界。此外，作者还研究了热浴随机行走的混合行为，并给出了在固定维度下，热浴随机行走是一种扩张的条件。\u001b[0m\n"
     ]
    }
   ],
   "source": [
    "def main(query, choose_tools):\n",
    "    prompt = build_planning_prompt(choose_tools, query) # 组织prompt\n",
    "    print(prompt)\n",
    "    stop = [\"Observation:\", \"Observation:\\n\"]\n",
    "    react_stop_words_tokens = [TOKENIZER.encode(stop_) for stop_ in stop]\n",
    "    response, _ = MODEL.chat(TOKENIZER, prompt, history=None, stop_words_ids=react_stop_words_tokens)\n",
    "\n",
    "    while \"Final Answer:\" not in response: # 出现final Answer时结束\n",
    "        api_output = use_api(choose_tools, response) # 抽取入参并执行api\n",
    "        if \"no tool founds\" == api_output:\n",
    "            break\n",
    "        print(\"\\033[32m\" + response + \"\\033[0m\" + \"\\033[34m\" + ' ' + api_output + \"\\033[0m\")\n",
    "        prompt = prompt + response + ' ' + api_output # 合并api输出\n",
    "        response, _ = MODEL.chat(TOKENIZER, prompt, history=None, stop_words_ids=react_stop_words_tokens) # 继续生成\n",
    "\n",
    "    print(\"\\033[32m\" + response + \"\\033[0m\")\n",
    "\n",
    "    \n",
    "query = \"加拿大2022年的人口数量有多少？\" # 所提问题\n",
    "choose_tools = TOOLS # 选择备选工具\n",
    "print(\"=\" * 10)\n",
    "main(query, choose_tools)\n",
    "\n",
    "query = \"求解方程 2x+5 = -3x + 7\" # 所提问题\n",
    "choose_tools = TOOLS # 选择备选工具\n",
    "print(\"=\" * 10)\n",
    "main(query, choose_tools)\n",
    "\n",
    "query = \"编号是1605.08386的论文讲了些什么？\" # 所提问题\n",
    "choose_tools = TOOLS # 选择备选工具\n",
    "print(\"=\" * 10)\n",
    "main(query, choose_tools)"
   ]
  }
 ],
 "metadata": {
  "kernelspec": {
   "display_name": "Python 3 (ipykernel)",
   "language": "python",
   "name": "python3"
  },
  "language_info": {
   "codemirror_mode": {
    "name": "ipython",
    "version": 3
   },
   "file_extension": ".py",
   "mimetype": "text/x-python",
   "name": "python",
   "nbconvert_exporter": "python",
   "pygments_lexer": "ipython3",
   "version": "3.8.13"
  }
 },
 "nbformat": 4,
 "nbformat_minor": 5
}
